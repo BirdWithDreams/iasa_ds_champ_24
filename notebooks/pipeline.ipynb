{
 "cells": [
  {
   "cell_type": "code",
   "execution_count": 20,
   "id": "initial_id",
   "metadata": {
    "collapsed": true,
    "ExecuteTime": {
     "end_time": "2024-02-11T09:03:23.851957200Z",
     "start_time": "2024-02-11T09:03:22.781751300Z"
    }
   },
   "outputs": [],
   "source": [
    "import glob\n",
    "import json\n",
    "import os\n",
    "import zipfile\n",
    "\n",
    "from pathlib import Path\n",
    "import shutil\n",
    "from operator import itemgetter\n",
    "\n",
    "import cv2\n",
    "import pandas as pd\n",
    "import torch\n",
    "import yaml\n",
    "from sklearn.model_selection import train_test_split\n",
    "from ultralytics import YOLO\n",
    "from openai import OpenAI"
   ]
  },
  {
   "cell_type": "code",
   "outputs": [
    {
     "data": {
      "text/plain": "True"
     },
     "execution_count": 14,
     "metadata": {},
     "output_type": "execute_result"
    }
   ],
   "source": [
    "from dotenv import load_dotenv\n",
    "load_dotenv()"
   ],
   "metadata": {
    "collapsed": false,
    "ExecuteTime": {
     "end_time": "2024-02-11T08:48:48.563909900Z",
     "start_time": "2024-02-11T08:48:48.544464700Z"
    }
   },
   "id": "c24224910ad8fb00",
   "execution_count": 14
  },
  {
   "cell_type": "markdown",
   "source": [
    "# Data preparations"
   ],
   "metadata": {
    "collapsed": false
   },
   "id": "2b741857b28a220c"
  },
  {
   "cell_type": "code",
   "outputs": [],
   "source": [
    "images = Path('../data/images/')\n",
    "json_trees = Path('../data/json_trees/')\n",
    "clean_trees = Path('../data/clean_trees/')\n",
    "representations = Path('../data/representations/')\n",
    "\n",
    "\n",
    "os.makedirs(images, exist_ok=True)\n",
    "os.makedirs(json_trees, exist_ok=True)\n",
    "os.makedirs(clean_trees, exist_ok=True)\n",
    "os.makedirs(representations, exist_ok=True)"
   ],
   "metadata": {
    "collapsed": false,
    "ExecuteTime": {
     "end_time": "2024-02-11T08:42:56.961294300Z",
     "start_time": "2024-02-11T08:42:56.954399800Z"
    }
   },
   "id": "b649243cecfc2208",
   "execution_count": 8
  },
  {
   "cell_type": "markdown",
   "source": [
    "Data hierarchy:\n",
    "\n",
    "data\n",
    "├───clean_trees\n",
    "├───images\n",
    "├───json_trees\n",
    "├───representations\n",
    "└───yolo_data\n",
    "    ├───test\n",
    "    │   ├───images\n",
    "    │   └───labels\n",
    "    ├───train\n",
    "    │   ├───images\n",
    "    │   └───labels\n",
    "    └───val\n",
    "        ├───images\n",
    "        └───labels"
   ],
   "metadata": {
    "collapsed": false
   },
   "id": "bee8c8174d6a395"
  },
  {
   "cell_type": "code",
   "outputs": [],
   "source": [
    "iasa_data_dir = Path('../data/IASA_Champ_Final/app_data')"
   ],
   "metadata": {
    "collapsed": false,
    "ExecuteTime": {
     "end_time": "2024-02-11T09:10:05.170469Z",
     "start_time": "2024-02-11T09:10:05.158424500Z"
    }
   },
   "id": "1d3826af4a4f6a55",
   "execution_count": 27
  },
  {
   "cell_type": "code",
   "outputs": [
    {
     "data": {
      "text/plain": "                   screen_path  split\n0  24hourwallpaper/1707228345/  train\n1  24hourwallpaper/1707228419/  train\n2  24hourwallpaper/1707228389/  train\n3         Almighty/1707228267/  train\n4         Almighty/1707228277/  train",
      "text/html": "<div>\n<style scoped>\n    .dataframe tbody tr th:only-of-type {\n        vertical-align: middle;\n    }\n\n    .dataframe tbody tr th {\n        vertical-align: top;\n    }\n\n    .dataframe thead th {\n        text-align: right;\n    }\n</style>\n<table border=\"1\" class=\"dataframe\">\n  <thead>\n    <tr style=\"text-align: right;\">\n      <th></th>\n      <th>screen_path</th>\n      <th>split</th>\n    </tr>\n  </thead>\n  <tbody>\n    <tr>\n      <th>0</th>\n      <td>24hourwallpaper/1707228345/</td>\n      <td>train</td>\n    </tr>\n    <tr>\n      <th>1</th>\n      <td>24hourwallpaper/1707228419/</td>\n      <td>train</td>\n    </tr>\n    <tr>\n      <th>2</th>\n      <td>24hourwallpaper/1707228389/</td>\n      <td>train</td>\n    </tr>\n    <tr>\n      <th>3</th>\n      <td>Almighty/1707228267/</td>\n      <td>train</td>\n    </tr>\n    <tr>\n      <th>4</th>\n      <td>Almighty/1707228277/</td>\n      <td>train</td>\n    </tr>\n  </tbody>\n</table>\n</div>"
     },
     "execution_count": 28,
     "metadata": {},
     "output_type": "execute_result"
    }
   ],
   "source": [
    "df = pd.read_csv(iasa_data_dir.parent / 'train_test_split.csv')\n",
    "df.head()"
   ],
   "metadata": {
    "collapsed": false,
    "ExecuteTime": {
     "end_time": "2024-02-11T09:10:05.917705300Z",
     "start_time": "2024-02-11T09:10:05.871803900Z"
    }
   },
   "id": "38d7308f0121542e",
   "execution_count": 28
  },
  {
   "cell_type": "code",
   "outputs": [
    {
     "data": {
      "text/plain": "                   screen_path  split\n0  24hourwallpaper/1707228345/  train\n1  24hourwallpaper/1707228419/  train\n2  24hourwallpaper/1707228389/  train\n3         Almighty/1707228267/  train\n4         Almighty/1707228277/  train",
      "text/html": "<div>\n<style scoped>\n    .dataframe tbody tr th:only-of-type {\n        vertical-align: middle;\n    }\n\n    .dataframe tbody tr th {\n        vertical-align: top;\n    }\n\n    .dataframe thead th {\n        text-align: right;\n    }\n</style>\n<table border=\"1\" class=\"dataframe\">\n  <thead>\n    <tr style=\"text-align: right;\">\n      <th></th>\n      <th>screen_path</th>\n      <th>split</th>\n    </tr>\n  </thead>\n  <tbody>\n    <tr>\n      <th>0</th>\n      <td>24hourwallpaper/1707228345/</td>\n      <td>train</td>\n    </tr>\n    <tr>\n      <th>1</th>\n      <td>24hourwallpaper/1707228419/</td>\n      <td>train</td>\n    </tr>\n    <tr>\n      <th>2</th>\n      <td>24hourwallpaper/1707228389/</td>\n      <td>train</td>\n    </tr>\n    <tr>\n      <th>3</th>\n      <td>Almighty/1707228267/</td>\n      <td>train</td>\n    </tr>\n    <tr>\n      <th>4</th>\n      <td>Almighty/1707228277/</td>\n      <td>train</td>\n    </tr>\n  </tbody>\n</table>\n</div>"
     },
     "execution_count": 13,
     "metadata": {},
     "output_type": "execute_result"
    }
   ],
   "source": [
    "replacements = {'Elelphas': 'Elephas', 'Marginnote': 'MarginNote', ' Express': '', 'studio': 'Studio'}\n",
    "df['screen_path'] = df['screen_path'].replace(replacements, regex=True)\n",
    "df.head()"
   ],
   "metadata": {
    "collapsed": false,
    "ExecuteTime": {
     "end_time": "2024-02-11T06:34:37.335101500Z",
     "start_time": "2024-02-11T06:34:37.324407900Z"
    }
   },
   "id": "446d23068b901421",
   "execution_count": 13
  },
  {
   "cell_type": "markdown",
   "source": [
    "## Restore images and json trees"
   ],
   "metadata": {
    "collapsed": false
   },
   "id": "8072a7b6f978c3fc"
  },
  {
   "cell_type": "code",
   "outputs": [],
   "source": [
    "for index, row in df.iterrows():\n",
    "    current_image_path = os.path.join(iasa_data_dir, row['screen_path'])\n",
    "    \n",
    "    json_tree = glob.glob(os.path.join(current_image_path, '*.json'))\n",
    "    img_name = glob.glob(os.path.join(current_image_path, '*.png'))[0]\n",
    "\n",
    "    shutil.copy(\n",
    "        img_name,\n",
    "        Path('../data/images') / (row['screen_path'].replace('/', '_')[:-1] + '.png')\n",
    "    )\n",
    "    \n",
    "    if json_tree:\n",
    "        json_tree = json_tree[0]\n",
    "        shutil.copy(\n",
    "            json_tree,\n",
    "            Path('../data/json_trees') / (row['screen_path'].replace('/', '_')[:-1] + '.json')\n",
    "        )     "
   ],
   "metadata": {
    "collapsed": false,
    "ExecuteTime": {
     "end_time": "2024-02-11T06:39:24.417371900Z",
     "start_time": "2024-02-11T06:39:23.342727500Z"
    }
   },
   "id": "dd3bc017b7cbf82a",
   "execution_count": 18
  },
  {
   "cell_type": "markdown",
   "source": [
    "## Prepare data to train YOLO"
   ],
   "metadata": {
    "collapsed": false
   },
   "id": "e0091048998806e4"
  },
  {
   "cell_type": "code",
   "outputs": [],
   "source": [
    "yolo_path = Path('../data/yolo_data')\n",
    "os.makedirs(yolo_path / 'train' / 'images', exist_ok=True)\n",
    "os.makedirs(yolo_path / 'train' / 'labels', exist_ok=True)\n",
    "\n",
    "os.makedirs(yolo_path / 'val' / 'images', exist_ok=True)\n",
    "os.makedirs(yolo_path / 'val' / 'labels', exist_ok=True)\n",
    "\n",
    "os.makedirs(yolo_path / 'test' / 'images', exist_ok=True)\n",
    "os.makedirs(yolo_path / 'test' / 'labels', exist_ok=True)"
   ],
   "metadata": {
    "collapsed": false,
    "ExecuteTime": {
     "end_time": "2024-02-11T07:13:02.293643Z",
     "start_time": "2024-02-11T07:13:02.281572500Z"
    }
   },
   "id": "776954761de78fa8",
   "execution_count": 51
  },
  {
   "cell_type": "code",
   "outputs": [],
   "source": [
    "def get_yolo_format(json_tree, w, h):\n",
    "    elements = []\n",
    "    stack = [json_tree]  # Initialize a stack with the root node\n",
    "\n",
    "    while stack:\n",
    "        current_node = stack.pop()\n",
    "\n",
    "        for elem in current_node:\n",
    "            bbox = elem['visible_bbox']\n",
    "            if bbox is not None:\n",
    "                elements.append([\n",
    "                    elem['role'],\n",
    "                    (bbox[0] + bbox[2]/2) / w,\n",
    "                    (bbox[1] + bbox[3]/2) / h,\n",
    "                    bbox[2] / w,\n",
    "                    bbox[3] / h,\n",
    "                ])\n",
    "\n",
    "                # Add children to the stack for processing\n",
    "                if 'children' in elem:\n",
    "                    stack.append(elem['children'])\n",
    "\n",
    "    return elements"
   ],
   "metadata": {
    "collapsed": false,
    "ExecuteTime": {
     "end_time": "2024-02-11T06:49:04.394641100Z",
     "start_time": "2024-02-11T06:49:04.392632900Z"
    }
   },
   "id": "8be16e2dfa4e19a5",
   "execution_count": 22
  },
  {
   "cell_type": "code",
   "outputs": [],
   "source": [
    "all_elements = []\n",
    "img_to_elements = {}\n",
    "\n",
    "json_trees = glob.glob('../data/json_trees/*.json')\n",
    "\n",
    "for json_tree in json_trees:\n",
    "    img_name = json_tree.replace('.json', '.png').replace('json_trees', 'images')\n",
    "    with open(json_tree) as f:\n",
    "        json_tree = json.load(f)\n",
    "    \n",
    "\n",
    "    img = cv2.imread(img_name)\n",
    "    height, width = img.shape[:2]\n",
    "\n",
    "    elements = get_yolo_format([json_tree], width, height)\n",
    "    all_elements.extend(map(itemgetter(0), elements))\n",
    "    img_to_elements[os.path.basename(img_name)] = elements"
   ],
   "metadata": {
    "collapsed": false,
    "ExecuteTime": {
     "end_time": "2024-02-11T06:59:52.478126900Z",
     "start_time": "2024-02-11T06:59:47.258903300Z"
    }
   },
   "id": "a0176ae18c035e",
   "execution_count": 29
  },
  {
   "cell_type": "code",
   "outputs": [
    {
     "data": {
      "text/plain": "AXStaticText             5246\nAXGroup                  4872\nAXButton                 4018\nAXImage                  1859\nAXRow                    1190\nAXCell                   1106\nAXCheckBox                500\nAXScrollArea              345\nAXTextField               324\nAXRadioButton             271\nAXLink                    239\nAXWindow                  220\nAXPopUpButton             218\nAXHeading                 195\nAXToolbar                 187\nAXList                    184\nAXValueIndicator          181\nAXColumn                  174\nAXGenericElement          170\nAXScrollBar               147\nAXMenuButton              144\nAXSplitGroup              112\nAXSlider                  103\nAXSplitter                 96\nAXTable                    82\nAXMenuItem                 80\nAXOutline                  77\nAXUnknown                  64\nAXRadioGroup               64\nAXWebArea                  49\nAXTextArea                 43\nAXTabGroup                 37\nAXDisclosureTriangle       32\nAXIncrementor              20\nAXOpaqueProviderGroup      17\nAXLayoutArea               17\nAXComboBox                 13\nAXSheet                    12\nAXLayoutItem               12\nAXColorWell                 7\nAXProgressIndicator         7\nAXHandle                    7\nAXGrid                      6\nAXMenu                      5\nAXRulerMarker               3\nAXLevelIndicator            3\nAXListMarker                3\nAXPopover                   2\nAXBrowser                   1\nAXRuler                     1\nAXDateTimeArea              1\nAXBusyIndicator             1\nName: count, dtype: int64"
     },
     "execution_count": 30,
     "metadata": {},
     "output_type": "execute_result"
    }
   ],
   "source": [
    "elements_count = pd.Series(all_elements).value_counts()\n",
    "elements_count"
   ],
   "metadata": {
    "collapsed": false,
    "ExecuteTime": {
     "end_time": "2024-02-11T06:59:54.827863100Z",
     "start_time": "2024-02-11T06:59:54.825342800Z"
    }
   },
   "id": "1f2e6304bc90db79",
   "execution_count": 30
  },
  {
   "cell_type": "code",
   "outputs": [],
   "source": [
    "thd = 100\n",
    "class_to_index = {cls: idx for idx, cls in enumerate(elements_count[elements_count > thd].index)}"
   ],
   "metadata": {
    "collapsed": false,
    "ExecuteTime": {
     "end_time": "2024-02-11T06:59:56.434528800Z",
     "start_time": "2024-02-11T06:59:56.428519400Z"
    }
   },
   "id": "25d2b846e6d336f9",
   "execution_count": 31
  },
  {
   "cell_type": "code",
   "outputs": [],
   "source": [
    "all_images = list(img_to_elements.keys())\n",
    "train_imgs, val_imgs = train_test_split(all_images, test_size=0.1, random_state=42)"
   ],
   "metadata": {
    "collapsed": false,
    "ExecuteTime": {
     "end_time": "2024-02-11T07:03:22.501484700Z",
     "start_time": "2024-02-11T07:03:22.487065300Z"
    }
   },
   "id": "31a5e651a84121b1",
   "execution_count": 40
  },
  {
   "cell_type": "code",
   "outputs": [],
   "source": [
    "for img in list(train_imgs):\n",
    "    elements = img_to_elements.get(img)\n",
    "\n",
    "    elements = list(map(lambda x: [class_to_index[x[0]]] + x[1:] if x[0] in class_to_index else None, elements))\n",
    "    elements = list(filter(lambda x: x is not None, elements))\n",
    "\n",
    "    labels = '\\n'.join(' '.join(str(el) for el in elem) for elem in elements)\n",
    "\n",
    "    shutil.copy(\n",
    "        Path('../data/images') / img,\n",
    "        yolo_path/ 'train'/ 'images'/ (img + '.png')\n",
    "    )\n",
    "    with open(yolo_path/ 'train'/ 'labels'/ img.replace('.png', '.txt'), 'w') as f:\n",
    "        f.write(labels)"
   ],
   "metadata": {
    "collapsed": false,
    "ExecuteTime": {
     "end_time": "2024-02-11T07:05:19.004875900Z",
     "start_time": "2024-02-11T07:05:18.751268700Z"
    }
   },
   "id": "b75481a96e74e45b",
   "execution_count": 45
  },
  {
   "cell_type": "code",
   "outputs": [],
   "source": [
    "for img in list(val_imgs):\n",
    "    elements = img_to_elements.get(img)\n",
    "\n",
    "    elements = list(map(lambda x: [class_to_index[x[0]]] + x[1:] if x[0] in class_to_index else None, elements))\n",
    "    elements = list(filter(lambda x: x is not None, elements))\n",
    "\n",
    "    labels = '\\n'.join(' '.join(str(el) for el in elem) for elem in elements)\n",
    "\n",
    "    shutil.copy(\n",
    "        Path('../data/images') / img,\n",
    "        yolo_path/ 'val'/ 'images'/ (img + '.png')\n",
    "    )\n",
    "    with open(yolo_path/ 'val'/ 'labels'/ img.replace('.png', '.txt'), 'w') as f:\n",
    "        f.write(labels)"
   ],
   "metadata": {
    "collapsed": false,
    "ExecuteTime": {
     "end_time": "2024-02-11T07:05:19.035445700Z",
     "start_time": "2024-02-11T07:05:19.007878900Z"
    }
   },
   "id": "9359fc493f547615",
   "execution_count": 46
  },
  {
   "cell_type": "markdown",
   "source": [
    "## Restore test data for yolo"
   ],
   "metadata": {
    "collapsed": false
   },
   "id": "4bd4cddb0a6251ce"
  },
  {
   "cell_type": "code",
   "outputs": [],
   "source": [
    "all_images = glob.glob('../data/images/*.png')\n",
    "all_images = {os.path.basename(img) for img in all_images}\n",
    "\n",
    "test_images = all_images - set(img_to_elements.keys())"
   ],
   "metadata": {
    "collapsed": false,
    "ExecuteTime": {
     "end_time": "2024-02-11T07:11:41.819752200Z",
     "start_time": "2024-02-11T07:11:41.786248Z"
    }
   },
   "id": "562a82c801f48bfd",
   "execution_count": 49
  },
  {
   "cell_type": "code",
   "outputs": [],
   "source": [
    "for img in test_images:\n",
    "    shutil.copy(\n",
    "        Path('../data/images') / img,\n",
    "        yolo_path/ 'test'/ 'images'/ img\n",
    "    )"
   ],
   "metadata": {
    "collapsed": false,
    "ExecuteTime": {
     "end_time": "2024-02-11T07:28:51.907484200Z",
     "start_time": "2024-02-11T07:28:51.846057800Z"
    }
   },
   "id": "61e3ac0315741748",
   "execution_count": 76
  },
  {
   "cell_type": "markdown",
   "source": [
    "## Make config file to train yolo"
   ],
   "metadata": {
    "collapsed": false
   },
   "id": "690ce816d316974a"
  },
  {
   "cell_type": "code",
   "outputs": [],
   "source": [
    "config = {\n",
    "    'path': str(yolo_path.absolute()),\n",
    "    'train': 'train\\images',\n",
    "    'val': 'val\\images',\n",
    "    'test': 'test\\images',\n",
    "    'nc': 23,\n",
    "    'names': list(class_to_index.keys())\n",
    "}"
   ],
   "metadata": {
    "collapsed": false,
    "ExecuteTime": {
     "end_time": "2024-02-11T07:17:11.514022800Z",
     "start_time": "2024-02-11T07:17:11.445767600Z"
    }
   },
   "id": "59f7e2d40628a31f",
   "execution_count": 63
  },
  {
   "cell_type": "code",
   "outputs": [],
   "source": [
    "with open(yolo_path / 'config.yaml', 'w') as f:\n",
    "    yaml.dump(config, f)"
   ],
   "metadata": {
    "collapsed": false,
    "ExecuteTime": {
     "end_time": "2024-02-11T07:17:13.513637400Z",
     "start_time": "2024-02-11T07:17:13.509452800Z"
    }
   },
   "id": "7048c1075526b9fb",
   "execution_count": 64
  },
  {
   "cell_type": "markdown",
   "source": [
    "# YOLO\n",
    "## Training YOLOv8s"
   ],
   "metadata": {
    "collapsed": false
   },
   "id": "c02ac0bff7bf860b"
  },
  {
   "cell_type": "code",
   "outputs": [],
   "source": [
    "model = YOLO('yolov8s.yaml')"
   ],
   "metadata": {
    "collapsed": false,
    "ExecuteTime": {
     "end_time": "2024-02-11T07:18:31.626177800Z",
     "start_time": "2024-02-11T07:18:24.786110800Z"
    }
   },
   "id": "7bdb5b35612c6b39",
   "execution_count": 65
  },
  {
   "cell_type": "code",
   "outputs": [],
   "source": [
    "model.train(data=yolo_path/'config.yaml', epochs=1200)"
   ],
   "metadata": {
    "collapsed": false
   },
   "id": "408e606fca7278a6",
   "execution_count": null
  },
  {
   "cell_type": "markdown",
   "source": [
    "## Inference YOLO"
   ],
   "metadata": {
    "collapsed": false
   },
   "id": "2d306bc4dfd7b9b8"
  },
  {
   "cell_type": "code",
   "outputs": [
    {
     "name": "stdout",
     "output_type": "stream",
     "text": [
      "image 1/114 D:\\Programming\\Programs\\Python\\DS\\IASA DS Champ 2024\\Main task\\notebooks\\..\\data\\yolo_data\\test\\images\\24hourwallpaper_1707228345.png: 640x544 15 AXStaticTexts, 12 AXButtons, 1 AXImage, 1 AXScrollArea, 1 AXWindow, 2 AXPopUpButtons, 1 AXList, 1 AXSplitGroup, 7.0ms\n",
      "image 2/114 D:\\Programming\\Programs\\Python\\DS\\IASA DS Champ 2024\\Main task\\notebooks\\..\\data\\yolo_data\\test\\images\\24hourwallpaper_1707228389.png: 384x640 5 AXStaticTexts, 8 AXGroups, 2 AXButtons, 1 AXImage, 1 AXLink, 1 AXWindow, 6.0ms\n",
      "image 3/114 D:\\Programming\\Programs\\Python\\DS\\IASA DS Champ 2024\\Main task\\notebooks\\..\\data\\yolo_data\\test\\images\\24hourwallpaper_1707228419.png: 384x640 2 AXStaticTexts, 4 AXGroups, 2 AXButtons, 1 AXWindow, 1 AXPopUpButton, 6.0ms\n",
      "image 4/114 D:\\Programming\\Programs\\Python\\DS\\IASA DS Champ 2024\\Main task\\notebooks\\..\\data\\yolo_data\\test\\images\\Bike_1707240151.png: 640x640 11 AXStaticTexts, 5 AXButtons, 2 AXScrollAreas, 1 AXWindow, 7.0ms\n",
      "image 5/114 D:\\Programming\\Programs\\Python\\DS\\IASA DS Champ 2024\\Main task\\notebooks\\..\\data\\yolo_data\\test\\images\\Bike_1707240192.png: 224x640 4 AXStaticTexts, 1 AXGroup, 10 AXButtons, 2 AXImages, 1 AXScrollArea, 1 AXWindow, 1 AXList, 9.0ms\n",
      "image 6/114 D:\\Programming\\Programs\\Python\\DS\\IASA DS Champ 2024\\Main task\\notebooks\\..\\data\\yolo_data\\test\\images\\Bike_1707240200.png: 448x640 7 AXStaticTexts, 11 AXButtons, 1 AXScrollArea, 1 AXWindow, 1 AXList, 6.0ms\n",
      "image 7/114 D:\\Programming\\Programs\\Python\\DS\\IASA DS Champ 2024\\Main task\\notebooks\\..\\data\\yolo_data\\test\\images\\Bike_1707240207.png: 448x640 9 AXStaticTexts, 1 AXGroup, 10 AXButtons, 1 AXImage, 3 AXScrollAreas, 1 AXWindow, 1 AXList, 1 AXSplitGroup, 6.0ms\n",
      "image 8/114 D:\\Programming\\Programs\\Python\\DS\\IASA DS Champ 2024\\Main task\\notebooks\\..\\data\\yolo_data\\test\\images\\Bike_1707240217.png: 640x480 20 AXStaticTexts, 1 AXGroup, 11 AXButtons, 1 AXScrollArea, 1 AXWindow, 1 AXList, 1 AXSplitGroup, 6.0ms\n",
      "image 9/114 D:\\Programming\\Programs\\Python\\DS\\IASA DS Champ 2024\\Main task\\notebooks\\..\\data\\yolo_data\\test\\images\\Bike_1707240226.png: 544x640 11 AXStaticTexts, 1 AXGroup, 10 AXButtons, 1 AXScrollArea, 1 AXWindow, 2 AXLists, 1 AXSplitGroup, 6.0ms\n",
      "image 10/114 D:\\Programming\\Programs\\Python\\DS\\IASA DS Champ 2024\\Main task\\notebooks\\..\\data\\yolo_data\\test\\images\\Bike_1707240233.png: 416x640 6 AXStaticTexts, 1 AXGroup, 12 AXButtons, 1 AXScrollArea, 1 AXWindow, 1 AXList, 7.0ms\n",
      "image 11/114 D:\\Programming\\Programs\\Python\\DS\\IASA DS Champ 2024\\Main task\\notebooks\\..\\data\\yolo_data\\test\\images\\Chronicle_1707169110.png: 384x640 55 AXStaticTexts, 3 AXGroups, 9 AXButtons, 9 AXImages, 14 AXRows, 14 AXCells, 5 AXScrollAreas, 1 AXWindow, 2 AXLists, 1 AXColumn, 1 AXSplitGroup, 6.0ms\n",
      "image 12/114 D:\\Programming\\Programs\\Python\\DS\\IASA DS Champ 2024\\Main task\\notebooks\\..\\data\\yolo_data\\test\\images\\Chronicle_1707169173.png: 384x640 55 AXStaticTexts, 5 AXGroups, 11 AXButtons, 9 AXImages, 15 AXRows, 13 AXCells, 2 AXCheckBoxs, 4 AXScrollAreas, 2 AXTextFields, 1 AXRadioButton, 1 AXWindow, 2 AXPopUpButtons, 2 AXLists, 1 AXColumn, 1 AXSplitGroup, 8.0ms\n",
      "image 13/114 D:\\Programming\\Programs\\Python\\DS\\IASA DS Champ 2024\\Main task\\notebooks\\..\\data\\yolo_data\\test\\images\\Chronicle_1707169225.png: 384x640 48 AXStaticTexts, 1 AXGroup, 11 AXButtons, 11 AXImages, 15 AXRows, 14 AXCells, 1 AXCheckBox, 1 AXScrollArea, 1 AXTextField, 2 AXRadioButtons, 1 AXWindow, 1 AXPopUpButton, 1 AXList, 1 AXColumn, 1 AXSplitGroup, 5.0ms\n",
      "image 14/114 D:\\Programming\\Programs\\Python\\DS\\IASA DS Champ 2024\\Main task\\notebooks\\..\\data\\yolo_data\\test\\images\\Chronicle_1707169240.png: 384x640 42 AXStaticTexts, 2 AXGroups, 9 AXButtons, 12 AXImages, 13 AXRows, 12 AXCells, 2 AXScrollAreas, 1 AXTextField, 1 AXRadioButton, 1 AXWindow, 1 AXPopUpButton, 2 AXColumns, 1 AXSplitGroup, 8.0ms\n",
      "image 15/114 D:\\Programming\\Programs\\Python\\DS\\IASA DS Champ 2024\\Main task\\notebooks\\..\\data\\yolo_data\\test\\images\\Chronicle_1707169277.png: 384x640 50 AXStaticTexts, 3 AXGroups, 10 AXButtons, 13 AXImages, 15 AXRows, 13 AXCells, 3 AXScrollAreas, 1 AXTextField, 1 AXWindow, 2 AXColumns, 1 AXSplitGroup, 5.0ms\n",
      "image 16/114 D:\\Programming\\Programs\\Python\\DS\\IASA DS Champ 2024\\Main task\\notebooks\\..\\data\\yolo_data\\test\\images\\Chronicle_1707169373.png: 384x640 30 AXStaticTexts, 2 AXGroups, 9 AXButtons, 11 AXImages, 11 AXRows, 11 AXCells, 2 AXScrollAreas, 1 AXRadioButton, 1 AXWindow, 2 AXColumns, 1 AXSplitGroup, 5.0ms\n",
      "image 17/114 D:\\Programming\\Programs\\Python\\DS\\IASA DS Champ 2024\\Main task\\notebooks\\..\\data\\yolo_data\\test\\images\\Craft_1707210355.png: 480x640 22 AXStaticTexts, 2 AXGroups, 4 AXButtons, 2 AXImages, 1 AXCell, 1 AXTextField, 1 AXWindow, 2 AXLists, 6.0ms\n",
      "image 18/114 D:\\Programming\\Programs\\Python\\DS\\IASA DS Champ 2024\\Main task\\notebooks\\..\\data\\yolo_data\\test\\images\\Craft_1707210368.png: 480x640 26 AXStaticTexts, 3 AXGroups, 4 AXButtons, 1 AXScrollArea, 1 AXRadioButton, 1 AXWindow, 3 AXLists, 5.0ms\n",
      "image 19/114 D:\\Programming\\Programs\\Python\\DS\\IASA DS Champ 2024\\Main task\\notebooks\\..\\data\\yolo_data\\test\\images\\Craft_1707210383.png: 480x640 13 AXStaticTexts, 7 AXGroups, 20 AXButtons, 1 AXImage, 1 AXTextField, 1 AXRadioButton, 1 AXWindow, 1 AXHeading, 5.0ms\n",
      "image 20/114 D:\\Programming\\Programs\\Python\\DS\\IASA DS Champ 2024\\Main task\\notebooks\\..\\data\\yolo_data\\test\\images\\Dash_1707235626.png: 544x640 35 AXStaticTexts, 11 AXGroups, 14 AXButtons, 17 AXImages, 24 AXRows, 24 AXCells, 1 AXCheckBox, 2 AXScrollAreas, 3 AXTextFields, 1 AXLink, 1 AXWindow, 2 AXLists, 2 AXValueIndicators, 2 AXColumns, 7.0ms\n",
      "image 21/114 D:\\Programming\\Programs\\Python\\DS\\IASA DS Champ 2024\\Main task\\notebooks\\..\\data\\yolo_data\\test\\images\\Dash_1707235734.png: 544x640 44 AXStaticTexts, 11 AXGroups, 16 AXButtons, 14 AXImages, 19 AXRows, 18 AXCells, 3 AXScrollAreas, 2 AXTextFields, 1 AXWindow, 2 AXLists, 1 AXColumn, 7.0ms\n",
      "image 22/114 D:\\Programming\\Programs\\Python\\DS\\IASA DS Champ 2024\\Main task\\notebooks\\..\\data\\yolo_data\\test\\images\\Dash_1707235787.png: 544x640 32 AXStaticTexts, 7 AXGroups, 17 AXButtons, 15 AXImages, 12 AXRows, 13 AXCells, 1 AXCheckBox, 2 AXScrollAreas, 1 AXLink, 1 AXWindow, 2 AXLists, 1 AXColumn, 7.0ms\n",
      "image 23/114 D:\\Programming\\Programs\\Python\\DS\\IASA DS Champ 2024\\Main task\\notebooks\\..\\data\\yolo_data\\test\\images\\Dash_1707235807.png: 544x640 10 AXStaticTexts, 11 AXGroups, 17 AXButtons, 1 AXScrollArea, 1 AXWindow, 2 AXLists, 8.0ms\n",
      "image 24/114 D:\\Programming\\Programs\\Python\\DS\\IASA DS Champ 2024\\Main task\\notebooks\\..\\data\\yolo_data\\test\\images\\Dash_1707235815.png: 544x640 4 AXStaticTexts, 4 AXGroups, 11 AXButtons, 1 AXCell, 2 AXScrollAreas, 1 AXWindow, 2 AXLists, 6.0ms\n",
      "image 25/114 D:\\Programming\\Programs\\Python\\DS\\IASA DS Champ 2024\\Main task\\notebooks\\..\\data\\yolo_data\\test\\images\\Dash_1707235822.png: 544x640 5 AXStaticTexts, 30 AXGroups, 21 AXButtons, 28 AXImages, 1 AXScrollArea, 1 AXWindow, 2 AXLists, 1 AXToolbar, 1 AXSplitGroup, 7.0ms\n",
      "image 26/114 D:\\Programming\\Programs\\Python\\DS\\IASA DS Champ 2024\\Main task\\notebooks\\..\\data\\yolo_data\\test\\images\\Dash_1707235830.png: 352x640 19 AXStaticTexts, 2 AXGroups, 10 AXButtons, 2 AXCells, 1 AXScrollArea, 1 AXWindow, 1 AXPopUpButton, 1 AXSplitGroup, 10.0ms\n",
      "image 27/114 D:\\Programming\\Programs\\Python\\DS\\IASA DS Champ 2024\\Main task\\notebooks\\..\\data\\yolo_data\\test\\images\\Diarly_1707210514.png: 640x544 5 AXStaticTexts, 1 AXButton, 1 AXImage, 1 AXScrollArea, 1 AXWindow, 6.0ms\n",
      "image 28/114 D:\\Programming\\Programs\\Python\\DS\\IASA DS Champ 2024\\Main task\\notebooks\\..\\data\\yolo_data\\test\\images\\Diarly_1707210527.png: 640x544 4 AXStaticTexts, 1 AXGroup, 1 AXButton, 1 AXWindow, 5.0ms\n",
      "image 29/114 D:\\Programming\\Programs\\Python\\DS\\IASA DS Champ 2024\\Main task\\notebooks\\..\\data\\yolo_data\\test\\images\\Diarly_1707210570.png: 448x640 8 AXStaticTexts, 2 AXGroups, 19 AXButtons, 9 AXRows, 9 AXCells, 3 AXScrollAreas, 2 AXTextFields, 1 AXWindow, 1 AXPopUpButton, 1 AXList, 2 AXColumns, 6.0ms\n",
      "image 30/114 D:\\Programming\\Programs\\Python\\DS\\IASA DS Champ 2024\\Main task\\notebooks\\..\\data\\yolo_data\\test\\images\\Due_1707213295.png: 640x512 7 AXStaticTexts, 8 AXButtons, 5 AXImages, 3 AXRows, 3 AXCells, 3 AXScrollAreas, 1 AXTextField, 1 AXWindow, 1 AXColumn, 1 AXSplitGroup, 10.0ms\n",
      "image 31/114 D:\\Programming\\Programs\\Python\\DS\\IASA DS Champ 2024\\Main task\\notebooks\\..\\data\\yolo_data\\test\\images\\Due_1707213324.png: 640x512 7 AXStaticTexts, 7 AXButtons, 5 AXImages, 3 AXRows, 3 AXCells, 4 AXScrollAreas, 1 AXTextField, 1 AXWindow, 1 AXColumn, 1 AXSplitGroup, 6.0ms\n",
      "image 32/114 D:\\Programming\\Programs\\Python\\DS\\IASA DS Champ 2024\\Main task\\notebooks\\..\\data\\yolo_data\\test\\images\\Elephas_1707210124.png: 480x640 12 AXStaticTexts, 9 AXGroups, 4 AXButtons, 9 AXImages, 1 AXLink, 1 AXWindow, 1 AXHeading, 6.0ms\n",
      "image 33/114 D:\\Programming\\Programs\\Python\\DS\\IASA DS Champ 2024\\Main task\\notebooks\\..\\data\\yolo_data\\test\\images\\Elephas_1707210133.png: 448x640 16 AXStaticTexts, 23 AXGroups, 9 AXButtons, 5 AXImages, 1 AXCheckBox, 1 AXWindow, 11.0ms\n",
      "image 34/114 D:\\Programming\\Programs\\Python\\DS\\IASA DS Champ 2024\\Main task\\notebooks\\..\\data\\yolo_data\\test\\images\\Elephas_1707210149.png: 544x640 5 AXStaticTexts, 4 AXGroups, 10 AXButtons, 2 AXRadioButtons, 1 AXWindow, 1 AXHeading, 6.0ms\n",
      "image 35/114 D:\\Programming\\Programs\\Python\\DS\\IASA DS Champ 2024\\Main task\\notebooks\\..\\data\\yolo_data\\test\\images\\Expenses_1707168769.png: 480x640 6 AXStaticTexts, 8 AXGroups, 8 AXButtons, 1 AXCheckBox, 1 AXScrollArea, 1 AXTextField, 1 AXWindow, 2 AXHeadings, 2 AXLists, 1 AXMenuButton, 7.0ms\n",
      "image 36/114 D:\\Programming\\Programs\\Python\\DS\\IASA DS Champ 2024\\Main task\\notebooks\\..\\data\\yolo_data\\test\\images\\Gemini_1707169924.png: 384x640 2 AXStaticTexts, 1 AXGroup, 2 AXImages, 1 AXCheckBox, 1 AXScrollArea, 1 AXWindow, 6.0ms\n",
      "image 37/114 D:\\Programming\\Programs\\Python\\DS\\IASA DS Champ 2024\\Main task\\notebooks\\..\\data\\yolo_data\\test\\images\\Gemini_1707169940.png: 384x640 5 AXStaticTexts, 3 AXGroups, 4 AXButtons, 1 AXCheckBox, 1 AXScrollArea, 1 AXWindow, 1 AXColumn, 1 AXSplitGroup, 8.0ms\n",
      "image 38/114 D:\\Programming\\Programs\\Python\\DS\\IASA DS Champ 2024\\Main task\\notebooks\\..\\data\\yolo_data\\test\\images\\Gemini_1707169949.png: 384x640 4 AXStaticTexts, 1 AXGroup, 1 AXButton, 1 AXImage, 2 AXCheckBoxs, 6.0ms\n",
      "image 39/114 D:\\Programming\\Programs\\Python\\DS\\IASA DS Champ 2024\\Main task\\notebooks\\..\\data\\yolo_data\\test\\images\\Gemini_1707169977.png: 384x640 6 AXStaticTexts, 1 AXGroup, 1 AXButton, 1 AXImage, 2 AXCheckBoxs, 1 AXWindow, 9.0ms\n",
      "image 40/114 D:\\Programming\\Programs\\Python\\DS\\IASA DS Champ 2024\\Main task\\notebooks\\..\\data\\yolo_data\\test\\images\\Gemini_1707170014.png: 384x640 3 AXStaticTexts, 3 AXGroups, 2 AXButtons, 2 AXImages, 4 AXCheckBoxs, 1 AXScrollArea, 1 AXColumn, 6.0ms\n",
      "image 41/114 D:\\Programming\\Programs\\Python\\DS\\IASA DS Champ 2024\\Main task\\notebooks\\..\\data\\yolo_data\\test\\images\\Gemini_1707170197.png: 384x640 13 AXStaticTexts, 1 AXGroup, 9 AXButtons, 7 AXImages, 4 AXRows, 4 AXCells, 2 AXScrollAreas, 1 AXRadioButton, 1 AXWindow, 2 AXLists, 2 AXColumns, 1 AXSplitGroup, 5.0ms\n",
      "image 42/114 D:\\Programming\\Programs\\Python\\DS\\IASA DS Champ 2024\\Main task\\notebooks\\..\\data\\yolo_data\\test\\images\\Gemini_1707170221.png: 384x640 6 AXStaticTexts, 1 AXGroup, 4 AXButtons, 1 AXImage, 4 AXCheckBoxs, 1 AXScrollArea, 1 AXWindow, 1 AXSplitGroup, 7.0ms\n",
      "image 43/114 D:\\Programming\\Programs\\Python\\DS\\IASA DS Champ 2024\\Main task\\notebooks\\..\\data\\yolo_data\\test\\images\\GlueMotion_1707240011.png: 448x640 1 AXStaticText, 1 AXGroup, 5 AXButtons, 1 AXRadioButton, 1 AXWindow, 2 AXLists, 1 AXMenuButton, 6.0ms\n",
      "image 44/114 D:\\Programming\\Programs\\Python\\DS\\IASA DS Champ 2024\\Main task\\notebooks\\..\\data\\yolo_data\\test\\images\\GoodTask_1707213983.png: 544x640 2 AXStaticTexts, 1 AXGroup, 4 AXButtons, 3 AXImages, 1 AXScrollArea, 1 AXWindow, 6.0ms\n",
      "image 45/114 D:\\Programming\\Programs\\Python\\DS\\IASA DS Champ 2024\\Main task\\notebooks\\..\\data\\yolo_data\\test\\images\\GoodTask_1707213995.png: 544x640 47 AXStaticTexts, 1 AXGroup, 10 AXButtons, 14 AXImages, 26 AXRows, 24 AXCells, 1 AXCheckBox, 3 AXScrollAreas, 2 AXRadioButtons, 1 AXWindow, 5 AXLists, 1 AXToolbar, 3 AXColumns, 2 AXSplitGroups, 5.0ms\n",
      "image 46/114 D:\\Programming\\Programs\\Python\\DS\\IASA DS Champ 2024\\Main task\\notebooks\\..\\data\\yolo_data\\test\\images\\GoodTask_1707214004.png: 544x640 2 AXStaticTexts, 2 AXGroups, 5 AXButtons, 1 AXImage, 1 AXScrollArea, 2 AXWindows, 6.0ms\n",
      "image 47/114 D:\\Programming\\Programs\\Python\\DS\\IASA DS Champ 2024\\Main task\\notebooks\\..\\data\\yolo_data\\test\\images\\IconJar_1707170580.png: 384x640 14 AXStaticTexts, 1 AXGroup, 7 AXButtons, 1 AXImage, 1 AXScrollArea, 1 AXWindow, 1 AXList, 9.0ms\n",
      "image 48/114 D:\\Programming\\Programs\\Python\\DS\\IASA DS Champ 2024\\Main task\\notebooks\\..\\data\\yolo_data\\test\\images\\MarginNote_1707169473.png: 480x640 3 AXStaticTexts, 5 AXGroups, 11 AXButtons, 1 AXImage, 1 AXScrollArea, 1 AXRadioButton, 1 AXWindow, 1 AXToolbar, 7.0ms\n",
      "image 49/114 D:\\Programming\\Programs\\Python\\DS\\IASA DS Champ 2024\\Main task\\notebooks\\..\\data\\yolo_data\\test\\images\\MarginNote_1707169495.png: 480x640 1 AXStaticText, 4 AXGroups, 9 AXButtons, 1 AXImage, 2 AXScrollAreas, 1 AXWindow, 1 AXSplitGroup, 5.0ms\n",
      "image 50/114 D:\\Programming\\Programs\\Python\\DS\\IASA DS Champ 2024\\Main task\\notebooks\\..\\data\\yolo_data\\test\\images\\MarginNote_1707169504.png: 480x640 1 AXStaticText, 8 AXGroups, 10 AXButtons, 2 AXScrollAreas, 1 AXWindow, 1 AXSplitGroup, 7.0ms\n",
      "image 51/114 D:\\Programming\\Programs\\Python\\DS\\IASA DS Champ 2024\\Main task\\notebooks\\..\\data\\yolo_data\\test\\images\\MarginNote_1707169517.png: 480x640 12 AXStaticTexts, 7 AXGroups, 11 AXButtons, 7 AXImages, 7 AXRows, 7 AXCells, 1 AXScrollArea, 1 AXWindow, 1 AXColumn, 6.0ms\n",
      "image 52/114 D:\\Programming\\Programs\\Python\\DS\\IASA DS Champ 2024\\Main task\\notebooks\\..\\data\\yolo_data\\test\\images\\Mockuuups Studio_1707239151.png: 448x640 5 AXStaticTexts, 11 AXGroups, 12 AXButtons, 3 AXImages, 1 AXCheckBox, 1 AXRadioButton, 1 AXWindow, 1 AXPopUpButton, 6.0ms\n",
      "image 53/114 D:\\Programming\\Programs\\Python\\DS\\IASA DS Champ 2024\\Main task\\notebooks\\..\\data\\yolo_data\\test\\images\\Mockuuups Studio_1707239192.png: 448x640 3 AXStaticTexts, 8 AXGroups, 4 AXButtons, 1 AXRadioButton, 1 AXLink, 1 AXWindow, 2 AXPopUpButtons, 2 AXLists, 2 AXToolbars, 4.0ms\n",
      "image 54/114 D:\\Programming\\Programs\\Python\\DS\\IASA DS Champ 2024\\Main task\\notebooks\\..\\data\\yolo_data\\test\\images\\Mockuuups Studio_1707239205.png: 448x640 1 AXStaticText, 4 AXGroups, 9 AXButtons, 2 AXRadioButtons, 2 AXLists, 5.0ms\n",
      "image 55/114 D:\\Programming\\Programs\\Python\\DS\\IASA DS Champ 2024\\Main task\\notebooks\\..\\data\\yolo_data\\test\\images\\Mockuuups Studio_1707239220.png: 448x640 4 AXStaticTexts, 7 AXGroups, 15 AXButtons, 1 AXImage, 1 AXLink, 1 AXWindow, 1 AXHeading, 1 AXList, 8.0ms\n",
      "image 56/114 D:\\Programming\\Programs\\Python\\DS\\IASA DS Champ 2024\\Main task\\notebooks\\..\\data\\yolo_data\\test\\images\\Mockuuups Studio_1707239241.png: 448x640 5 AXStaticTexts, 1 AXGroup, 13 AXButtons, 1 AXImage, 1 AXCheckBox, 5.0ms\n",
      "image 57/114 D:\\Programming\\Programs\\Python\\DS\\IASA DS Champ 2024\\Main task\\notebooks\\..\\data\\yolo_data\\test\\images\\Mockuuups Studio_1707239258.png: 448x640 5 AXStaticTexts, 1 AXGroup, 14 AXButtons, 2 AXImages, 1 AXCheckBox, 1 AXScrollArea, 1 AXWindow, 1 AXPopUpButton, 1 AXSplitGroup, 7.0ms\n",
      "image 58/114 D:\\Programming\\Programs\\Python\\DS\\IASA DS Champ 2024\\Main task\\notebooks\\..\\data\\yolo_data\\test\\images\\NotePlan_1707242520.png: 608x640 14 AXStaticTexts, 6 AXGroups, 15 AXButtons, 2 AXImages, 1 AXScrollArea, 2 AXRadioButtons, 1 AXWindow, 1 AXPopUpButton, 1 AXHeading, 1 AXList, 7.0ms\n",
      "image 59/114 D:\\Programming\\Programs\\Python\\DS\\IASA DS Champ 2024\\Main task\\notebooks\\..\\data\\yolo_data\\test\\images\\NotePlan_1707242529.png: 512x640 16 AXStaticTexts, 1 AXGroup, 14 AXButtons, 2 AXCheckBoxs, 2 AXScrollAreas, 1 AXWindow, 1 AXHeading, 2 AXLists, 1 AXSplitGroup, 7.0ms\n",
      "image 60/114 D:\\Programming\\Programs\\Python\\DS\\IASA DS Champ 2024\\Main task\\notebooks\\..\\data\\yolo_data\\test\\images\\NotePlan_1707242545.png: 608x640 23 AXStaticTexts, 2 AXGroups, 19 AXButtons, 1 AXScrollArea, 1 AXWindow, 1 AXHeading, 1 AXList, 1 AXSplitGroup, 6.0ms\n",
      "image 61/114 D:\\Programming\\Programs\\Python\\DS\\IASA DS Champ 2024\\Main task\\notebooks\\..\\data\\yolo_data\\test\\images\\NotePlan_1707242555.png: 640x608 35 AXStaticTexts, 14 AXGroups, 16 AXButtons, 5 AXCells, 1 AXScrollArea, 1 AXWindow, 1 AXHeading, 1 AXList, 1 AXColumn, 1 AXSplitGroup, 7.0ms\n",
      "image 62/114 D:\\Programming\\Programs\\Python\\DS\\IASA DS Champ 2024\\Main task\\notebooks\\..\\data\\yolo_data\\test\\images\\NotePlan_1707242573.png: 512x640 9 AXStaticTexts, 2 AXGroups, 12 AXButtons, 1 AXScrollArea, 1 AXWindow, 1 AXHeading, 1 AXList, 1 AXToolbar, 1 AXSplitGroup, 7.0ms\n",
      "image 63/114 D:\\Programming\\Programs\\Python\\DS\\IASA DS Champ 2024\\Main task\\notebooks\\..\\data\\yolo_data\\test\\images\\Numi_1707235443.png: 640x576 9 AXStaticTexts, 5 AXButtons, 4 AXImages, 1 AXWindow, 7.0ms\n",
      "image 64/114 D:\\Programming\\Programs\\Python\\DS\\IASA DS Champ 2024\\Main task\\notebooks\\..\\data\\yolo_data\\test\\images\\Permute_1707228874.png: 512x640 6 AXStaticTexts, 2 AXGroups, 12 AXButtons, 1 AXScrollArea, 1 AXWindow, 1 AXSplitGroup, 6.0ms\n",
      "image 65/114 D:\\Programming\\Programs\\Python\\DS\\IASA DS Champ 2024\\Main task\\notebooks\\..\\data\\yolo_data\\test\\images\\PhotosRevive_1707212757.png: 640x640 3 AXStaticTexts, 5 AXButtons, 2 AXImages, 1 AXCheckBox, 1 AXScrollArea, 1 AXWindow, 8.0ms\n",
      "image 66/114 D:\\Programming\\Programs\\Python\\DS\\IASA DS Champ 2024\\Main task\\notebooks\\..\\data\\yolo_data\\test\\images\\PhotosRevive_1707212776.png: 480x640 1 AXStaticText, 1 AXGroup, 8 AXButtons, 1 AXScrollArea, 1 AXWindow, 1 AXHeading, 8.0ms\n",
      "image 67/114 D:\\Programming\\Programs\\Python\\DS\\IASA DS Champ 2024\\Main task\\notebooks\\..\\data\\yolo_data\\test\\images\\Receipts_1707209308.png: 352x640 13 AXStaticTexts, 3 AXGroups, 8 AXButtons, 1 AXImage, 8 AXRows, 1 AXCell, 2 AXScrollAreas, 1 AXTextField, 1 AXWindow, 2 AXLists, 1 AXColumn, 1 AXMenuButton, 1 AXSplitGroup, 6.0ms\n",
      "image 68/114 D:\\Programming\\Programs\\Python\\DS\\IASA DS Champ 2024\\Main task\\notebooks\\..\\data\\yolo_data\\test\\images\\Receipts_1707209474.png: 352x640 10 AXStaticTexts, 7 AXGroups, 13 AXButtons, 5 AXImages, 1 AXCheckBox, 1 AXScrollArea, 1 AXTextField, 6 AXRadioButtons, 1 AXWindow, 1 AXList, 5.0ms\n",
      "image 69/114 D:\\Programming\\Programs\\Python\\DS\\IASA DS Champ 2024\\Main task\\notebooks\\..\\data\\yolo_data\\test\\images\\Receipts_1707209532.png: 448x640 4 AXStaticTexts, 7 AXButtons, 28 AXRows, 19 AXCells, 1 AXScrollArea, 1 AXTextField, 2 AXRadioButtons, 1 AXWindow, 1 AXHeading, 2 AXLists, 1 AXColumn, 6.0ms\n",
      "image 70/114 D:\\Programming\\Programs\\Python\\DS\\IASA DS Champ 2024\\Main task\\notebooks\\..\\data\\yolo_data\\test\\images\\Receipts_1707209585.png: 352x640 1 AXStaticText, 11 AXGroups, 11 AXButtons, 1 AXImage, 29 AXRows, 19 AXCells, 2 AXScrollAreas, 1 AXWindow, 1 AXHeading, 1 AXList, 1 AXColumn, 7.0ms\n",
      "image 71/114 D:\\Programming\\Programs\\Python\\DS\\IASA DS Champ 2024\\Main task\\notebooks\\..\\data\\yolo_data\\test\\images\\Session_1707170312.png: 576x640 9 AXStaticTexts, 3 AXGroups, 24 AXButtons, 1 AXImage, 1 AXCell, 1 AXScrollArea, 1 AXWindow, 1 AXSplitGroup, 8.0ms\n",
      "image 72/114 D:\\Programming\\Programs\\Python\\DS\\IASA DS Champ 2024\\Main task\\notebooks\\..\\data\\yolo_data\\test\\images\\Soulver_1707236359.png: 576x640 32 AXStaticTexts, 16 AXGroups, 10 AXButtons, 9 AXImages, 2 AXCells, 1 AXCheckBox, 2 AXScrollAreas, 1 AXLink, 1 AXWindow, 1 AXHeading, 1 AXList, 1 AXColumn, 1 AXSplitGroup, 7.0ms\n",
      "image 73/114 D:\\Programming\\Programs\\Python\\DS\\IASA DS Champ 2024\\Main task\\notebooks\\..\\data\\yolo_data\\test\\images\\Soulver_1707236367.png: 576x640 22 AXStaticTexts, 13 AXGroups, 10 AXButtons, 8 AXImages, 2 AXRows, 3 AXCells, 1 AXCheckBox, 3 AXScrollAreas, 1 AXWindow, 1 AXHeading, 2 AXLists, 1 AXColumn, 1 AXSplitGroup, 7.0ms\n",
      "image 74/114 D:\\Programming\\Programs\\Python\\DS\\IASA DS Champ 2024\\Main task\\notebooks\\..\\data\\yolo_data\\test\\images\\Soulver_1707236376.png: 576x640 31 AXStaticTexts, 29 AXGroups, 10 AXButtons, 13 AXImages, 3 AXRows, 6 AXCells, 1 AXScrollArea, 1 AXLink, 2 AXHeadings, 2 AXLists, 1 AXColumn, 7.0ms\n",
      "image 75/114 D:\\Programming\\Programs\\Python\\DS\\IASA DS Champ 2024\\Main task\\notebooks\\..\\data\\yolo_data\\test\\images\\Soulver_1707236446.png: 576x640 15 AXStaticTexts, 12 AXGroups, 11 AXButtons, 8 AXImages, 1 AXScrollArea, 1 AXLink, 1 AXWindow, 2 AXHeadings, 2 AXLists, 1 AXSplitGroup, 9.0ms\n",
      "image 76/114 D:\\Programming\\Programs\\Python\\DS\\IASA DS Champ 2024\\Main task\\notebooks\\..\\data\\yolo_data\\test\\images\\Soulver_1707236526.png: 544x640 17 AXStaticTexts, 6 AXGroups, 6 AXButtons, 4 AXImages, 2 AXRows, 3 AXCells, 2 AXScrollAreas, 1 AXWindow, 1 AXPopUpButton, 1 AXSplitGroup, 8.0ms\n",
      "image 77/114 D:\\Programming\\Programs\\Python\\DS\\IASA DS Champ 2024\\Main task\\notebooks\\..\\data\\yolo_data\\test\\images\\Spotify_1707229717.png: 448x640 14 AXStaticTexts, 24 AXGroups, 11 AXButtons, 8 AXRadioButtons, 1 AXWindow, 1 AXList, 10.0ms\n",
      "image 78/114 D:\\Programming\\Programs\\Python\\DS\\IASA DS Champ 2024\\Main task\\notebooks\\..\\data\\yolo_data\\test\\images\\Spotify_1707229735.png: 448x640 6 AXStaticTexts, 15 AXGroups, 29 AXButtons, 6 AXImages, 4 AXRadioButtons, 1 AXWindow, 1 AXList, 3 AXGenericElements, 5.0ms\n",
      "image 79/114 D:\\Programming\\Programs\\Python\\DS\\IASA DS Champ 2024\\Main task\\notebooks\\..\\data\\yolo_data\\test\\images\\Spotify_1707229751.png: 480x640 12 AXStaticTexts, 15 AXGroups, 27 AXButtons, 10 AXImages, 2 AXScrollAreas, 2 AXTextFields, 1 AXWindow, 1 AXPopUpButton, 8.0ms\n",
      "image 80/114 D:\\Programming\\Programs\\Python\\DS\\IASA DS Champ 2024\\Main task\\notebooks\\..\\data\\yolo_data\\test\\images\\Spotify_1707229765.png: 480x640 22 AXStaticTexts, 18 AXGroups, 24 AXButtons, 7 AXImages, 2 AXScrollAreas, 5 AXRadioButtons, 2 AXWindows, 1 AXHeading, 6.0ms\n",
      "image 81/114 D:\\Programming\\Programs\\Python\\DS\\IASA DS Champ 2024\\Main task\\notebooks\\..\\data\\yolo_data\\test\\images\\Spotify_1707229819.png: 640x608 28 AXStaticTexts, 31 AXGroups, 26 AXButtons, 4 AXImages, 1 AXScrollArea, 1 AXWindow, 10.0ms\n",
      "image 82/114 D:\\Programming\\Programs\\Python\\DS\\IASA DS Champ 2024\\Main task\\notebooks\\..\\data\\yolo_data\\test\\images\\Spotify_1707229950.png: 640x608 32 AXStaticTexts, 37 AXGroups, 37 AXButtons, 3 AXRows, 1 AXRadioButton, 1 AXWindow, 1 AXList, 7.0ms\n",
      "image 83/114 D:\\Programming\\Programs\\Python\\DS\\IASA DS Champ 2024\\Main task\\notebooks\\..\\data\\yolo_data\\test\\images\\Structured_1707167985.png: 480x640 5 AXStaticTexts, 3 AXGroups, 5 AXButtons, 1 AXScrollArea, 1 AXWindow, 2 AXLists, 2 AXToolbars, 7.0ms\n",
      "image 84/114 D:\\Programming\\Programs\\Python\\DS\\IASA DS Champ 2024\\Main task\\notebooks\\..\\data\\yolo_data\\test\\images\\Structured_1707168029.png: 480x640 42 AXStaticTexts, 2 AXGroups, 12 AXButtons, 1 AXImage, 2 AXScrollAreas, 2 AXWindows, 3 AXLists, 1 AXToolbar, 1 AXSplitGroup, 6.0ms\n",
      "image 85/114 D:\\Programming\\Programs\\Python\\DS\\IASA DS Champ 2024\\Main task\\notebooks\\..\\data\\yolo_data\\test\\images\\Structured_1707168054.png: 480x640 11 AXStaticTexts, 8 AXGroups, 5 AXButtons, 2 AXCheckBoxs, 1 AXWindow, 5 AXHeadings, 7.0ms\n",
      "image 86/114 D:\\Programming\\Programs\\Python\\DS\\IASA DS Champ 2024\\Main task\\notebooks\\..\\data\\yolo_data\\test\\images\\Structured_1707168098.png: 480x640 13 AXStaticTexts, 2 AXGroups, 22 AXButtons, 2 AXScrollAreas, 1 AXWindow, 1 AXList, 7.0ms\n",
      "image 87/114 D:\\Programming\\Programs\\Python\\DS\\IASA DS Champ 2024\\Main task\\notebooks\\..\\data\\yolo_data\\test\\images\\Structured_1707168145.png: 480x640 11 AXStaticTexts, 11 AXButtons, 2 AXImages, 2 AXCheckBoxs, 1 AXWindow, 1 AXSplitGroup, 6.0ms\n",
      "image 88/114 D:\\Programming\\Programs\\Python\\DS\\IASA DS Champ 2024\\Main task\\notebooks\\..\\data\\yolo_data\\test\\images\\Structured_1707168465.png: 480x640 7 AXStaticTexts, 5 AXGroups, 7 AXButtons, 1 AXRadioButton, 1 AXWindow, 6.0ms\n",
      "image 89/114 D:\\Programming\\Programs\\Python\\DS\\IASA DS Champ 2024\\Main task\\notebooks\\..\\data\\yolo_data\\test\\images\\TextSoap_1707237615.png: 448x640 7 AXStaticTexts, 6 AXGroups, 9 AXButtons, 7 AXRows, 7 AXCells, 2 AXCheckBoxs, 3 AXScrollAreas, 1 AXTextField, 1 AXWindow, 1 AXList, 1 AXColumn, 1 AXSplitGroup, 7.0ms\n",
      "image 90/114 D:\\Programming\\Programs\\Python\\DS\\IASA DS Champ 2024\\Main task\\notebooks\\..\\data\\yolo_data\\test\\images\\TextSoap_1707237624.png: 448x640 7 AXStaticTexts, 9 AXButtons, 9 AXRows, 8 AXCells, 2 AXCheckBoxs, 2 AXScrollAreas, 1 AXTextField, 1 AXRadioButton, 1 AXWindow, 1 AXList, 2 AXColumns, 1 AXSplitGroup, 6.0ms\n",
      "image 91/114 D:\\Programming\\Programs\\Python\\DS\\IASA DS Champ 2024\\Main task\\notebooks\\..\\data\\yolo_data\\test\\images\\TextSoap_1707237633.png: 448x640 12 AXStaticTexts, 7 AXGroups, 9 AXButtons, 8 AXRows, 8 AXCells, 2 AXCheckBoxs, 2 AXScrollAreas, 1 AXTextField, 1 AXWindow, 1 AXHeading, 1 AXList, 1 AXColumn, 1 AXSplitGroup, 8.0ms\n",
      "image 92/114 D:\\Programming\\Programs\\Python\\DS\\IASA DS Champ 2024\\Main task\\notebooks\\..\\data\\yolo_data\\test\\images\\TextSoap_1707237669.png: 352x640 1 AXStaticText, 11 AXGroups, 4 AXButtons, 3 AXImages, 3 AXRows, 2 AXCells, 2 AXTextFields, 1 AXWindow, 3 AXHeadings, 1 AXList, 8.0ms\n",
      "image 93/114 D:\\Programming\\Programs\\Python\\DS\\IASA DS Champ 2024\\Main task\\notebooks\\..\\data\\yolo_data\\test\\images\\TimeOut_1707213682.png: 608x640 4 AXStaticTexts, 2 AXButtons, 1 AXImage, 1 AXWindow, 9.0ms\n",
      "image 94/114 D:\\Programming\\Programs\\Python\\DS\\IASA DS Champ 2024\\Main task\\notebooks\\..\\data\\yolo_data\\test\\images\\TimeOut_1707213714.png: 384x640 21 AXStaticTexts, 1 AXGroup, 7 AXButtons, 6 AXImages, 10 AXRows, 15 AXCells, 2 AXCheckBoxs, 2 AXScrollAreas, 2 AXRadioButtons, 1 AXWindow, 1 AXColumn, 1 AXSplitGroup, 7.0ms\n",
      "image 95/114 D:\\Programming\\Programs\\Python\\DS\\IASA DS Champ 2024\\Main task\\notebooks\\..\\data\\yolo_data\\test\\images\\TimeOut_1707213732.png: 448x640 29 AXStaticTexts, 11 AXButtons, 5 AXImages, 13 AXRows, 15 AXCells, 2 AXCheckBoxs, 2 AXScrollAreas, 1 AXTextField, 1 AXWindow, 1 AXHeading, 1 AXColumn, 1 AXSplitGroup, 10.0ms\n",
      "image 96/114 D:\\Programming\\Programs\\Python\\DS\\IASA DS Champ 2024\\Main task\\notebooks\\..\\data\\yolo_data\\test\\images\\TimeOut_1707213746.png: 448x640 29 AXStaticTexts, 2 AXGroups, 7 AXButtons, 5 AXImages, 12 AXRows, 15 AXCells, 1 AXCheckBox, 2 AXScrollAreas, 3 AXLinks, 1 AXWindow, 2 AXPopUpButtons, 1 AXHeading, 2 AXLists, 1 AXColumn, 1 AXSplitGroup, 6.0ms\n",
      "image 97/114 D:\\Programming\\Programs\\Python\\DS\\IASA DS Champ 2024\\Main task\\notebooks\\..\\data\\yolo_data\\test\\images\\TimeOut_1707213757.png: 480x640 22 AXStaticTexts, 8 AXButtons, 6 AXImages, 11 AXRows, 13 AXCells, 2 AXCheckBoxs, 2 AXScrollAreas, 1 AXWindow, 1 AXHeading, 2 AXColumns, 1 AXSplitGroup, 8.0ms\n",
      "image 98/114 D:\\Programming\\Programs\\Python\\DS\\IASA DS Champ 2024\\Main task\\notebooks\\..\\data\\yolo_data\\test\\images\\Timemator_1707239548.png: 576x640 27 AXStaticTexts, 7 AXGroups, 10 AXButtons, 14 AXRows, 18 AXCells, 3 AXScrollAreas, 3 AXRadioButtons, 1 AXColumn, 1 AXSplitGroup, 9.0ms\n",
      "image 99/114 D:\\Programming\\Programs\\Python\\DS\\IASA DS Champ 2024\\Main task\\notebooks\\..\\data\\yolo_data\\test\\images\\Timing_1707212987.png: 640x576 5 AXStaticTexts, 3 AXButtons, 1 AXImage, 1 AXWindow, 1 AXSplitGroup, 10.1ms\n",
      "image 100/114 D:\\Programming\\Programs\\Python\\DS\\IASA DS Champ 2024\\Main task\\notebooks\\..\\data\\yolo_data\\test\\images\\Typing-Mind_1707209831.png: 448x640 24 AXStaticTexts, 5 AXGroups, 22 AXButtons, 2 AXImages, 2 AXWindows, 1 AXPopUpButton, 1 AXSplitGroup, 7.0ms\n",
      "image 101/114 D:\\Programming\\Programs\\Python\\DS\\IASA DS Champ 2024\\Main task\\notebooks\\..\\data\\yolo_data\\test\\images\\Typing-Mind_1707209841.png: 448x640 33 AXStaticTexts, 10 AXGroups, 20 AXButtons, 5 AXImages, 1 AXCheckBox, 1 AXScrollArea, 1 AXRadioButton, 1 AXWindow, 1 AXToolbar, 1 AXMenuButton, 7.0ms\n",
      "image 102/114 D:\\Programming\\Programs\\Python\\DS\\IASA DS Champ 2024\\Main task\\notebooks\\..\\data\\yolo_data\\test\\images\\Typing-Mind_1707209853.png: 448x640 36 AXStaticTexts, 11 AXGroups, 10 AXButtons, 2 AXImages, 1 AXWindow, 8.0ms\n",
      "image 103/114 D:\\Programming\\Programs\\Python\\DS\\IASA DS Champ 2024\\Main task\\notebooks\\..\\data\\yolo_data\\test\\images\\Typing-Mind_1707209861.png: 448x640 34 AXStaticTexts, 12 AXGroups, 13 AXButtons, 4 AXImages, 1 AXRow, 1 AXCheckBox, 1 AXWindow, 2 AXHeadings, 1 AXColumn, 1 AXSplitGroup, 6.0ms\n",
      "image 104/114 D:\\Programming\\Programs\\Python\\DS\\IASA DS Champ 2024\\Main task\\notebooks\\..\\data\\yolo_data\\test\\images\\Typing-Mind_1707209895.png: 448x640 14 AXStaticTexts, 5 AXGroups, 24 AXButtons, 2 AXImages, 1 AXCheckBox, 1 AXScrollArea, 1 AXWindow, 7.0ms\n",
      "image 105/114 D:\\Programming\\Programs\\Python\\DS\\IASA DS Champ 2024\\Main task\\notebooks\\..\\data\\yolo_data\\test\\images\\Typing-Mind_1707209909.png: 448x640 32 AXStaticTexts, 8 AXGroups, 21 AXButtons, 2 AXImages, 8 AXCheckBoxs, 3 AXScrollAreas, 1 AXWindow, 2 AXLists, 1 AXSplitGroup, 6.0ms\n",
      "image 106/114 D:\\Programming\\Programs\\Python\\DS\\IASA DS Champ 2024\\Main task\\notebooks\\..\\data\\yolo_data\\test\\images\\Typing-Mind_1707209926.png: 448x640 23 AXStaticTexts, 8 AXGroups, 18 AXButtons, 6 AXImages, 1 AXCheckBox, 1 AXScrollArea, 1 AXWindow, 7.0ms\n",
      "image 107/114 D:\\Programming\\Programs\\Python\\DS\\IASA DS Champ 2024\\Main task\\notebooks\\..\\data\\yolo_data\\test\\images\\Typing-Mind_1707209966.png: 448x640 21 AXStaticTexts, 5 AXGroups, 29 AXButtons, 1 AXImage, 1 AXRow, 1 AXCell, 2 AXCheckBoxs, 3 AXScrollAreas, 1 AXTextField, 1 AXWindow, 1 AXSplitGroup, 6.0ms\n",
      "image 108/114 D:\\Programming\\Programs\\Python\\DS\\IASA DS Champ 2024\\Main task\\notebooks\\..\\data\\yolo_data\\test\\images\\Typing-Mind_1707209975.png: 448x640 22 AXStaticTexts, 7 AXGroups, 33 AXButtons, 2 AXImages, 2 AXCheckBoxs, 1 AXScrollArea, 1 AXTextField, 3 AXRadioButtons, 1 AXWindow, 1 AXPopUpButton, 7.0ms\n",
      "image 109/114 D:\\Programming\\Programs\\Python\\DS\\IASA DS Champ 2024\\Main task\\notebooks\\..\\data\\yolo_data\\test\\images\\Typing-Mind_1707209993.png: 448x640 20 AXStaticTexts, 12 AXGroups, 27 AXButtons, 1 AXImage, 1 AXCheckBox, 2 AXScrollAreas, 1 AXTextField, 1 AXLink, 2 AXWindows, 1 AXHeading, 7.0ms\n",
      "image 110/114 D:\\Programming\\Programs\\Python\\DS\\IASA DS Champ 2024\\Main task\\notebooks\\..\\data\\yolo_data\\test\\images\\Typing-Mind_1707210002.png: 448x640 26 AXStaticTexts, 7 AXGroups, 20 AXButtons, 3 AXScrollAreas, 1 AXTextField, 1 AXLink, 1 AXWindow, 4 AXPopUpButtons, 1 AXHeading, 1 AXSplitGroup, 6.0ms\n",
      "image 111/114 D:\\Programming\\Programs\\Python\\DS\\IASA DS Champ 2024\\Main task\\notebooks\\..\\data\\yolo_data\\test\\images\\Typing-Mind_1707210015.png: 448x640 27 AXStaticTexts, 7 AXGroups, 23 AXButtons, 8 AXImages, 1 AXCheckBox, 1 AXScrollArea, 3 AXTextFields, 1 AXWindow, 1 AXPopUpButton, 1 AXList, 6.0ms\n",
      "image 112/114 D:\\Programming\\Programs\\Python\\DS\\IASA DS Champ 2024\\Main task\\notebooks\\..\\data\\yolo_data\\test\\images\\Ulysses_1707171227.png: 384x640 16 AXStaticTexts, 3 AXGroups, 10 AXButtons, 3 AXImages, 18 AXRows, 18 AXCells, 3 AXScrollAreas, 1 AXLink, 1 AXWindow, 1 AXHeading, 3 AXLists, 1 AXColumn, 7.0ms\n",
      "image 113/114 D:\\Programming\\Programs\\Python\\DS\\IASA DS Champ 2024\\Main task\\notebooks\\..\\data\\yolo_data\\test\\images\\Zotero_1707127355.png: 384x640 11 AXStaticTexts, 14 AXGroups, 13 AXButtons, 1 AXImage, 4 AXRows, 1 AXScrollArea, 2 AXRadioButtons, 1 AXWindow, 1 AXHeading, 2 AXLists, 11.0ms\n",
      "image 114/114 D:\\Programming\\Programs\\Python\\DS\\IASA DS Champ 2024\\Main task\\notebooks\\..\\data\\yolo_data\\test\\images\\Zotero_1707127414.png: 384x640 18 AXStaticTexts, 9 AXGroups, 15 AXButtons, 7 AXImages, 1 AXScrollArea, 2 AXRadioButtons, 3 AXLinks, 1 AXWindow, 5.0ms\n",
      "Speed: 1.7ms preprocess, 6.9ms inference, 1.4ms postprocess per image at shape (1, 3, 384, 640)\n"
     ]
    }
   ],
   "source": [
    "model = YOLO(r\"runs/detect/train/weights/best.pt\")\n",
    "input_folder = yolo_path / 'test' / 'images'\n",
    "res = model.predict(input_folder)"
   ],
   "metadata": {
    "collapsed": false,
    "ExecuteTime": {
     "end_time": "2024-02-11T07:31:52.031292700Z",
     "start_time": "2024-02-11T07:31:48.384089Z"
    }
   },
   "id": "c19ce4f2bc069f9b",
   "execution_count": 81
  },
  {
   "cell_type": "code",
   "outputs": [],
   "source": [
    "for result in res:\n",
    "    output_file = result.path.replace('images', 'labels').replace('.png', '.txt')\n",
    "\n",
    "    with open(output_file, 'w') as f:\n",
    "        for box, conf, cls in zip(result.boxes.xywh, result.boxes.conf, result.boxes.cls):\n",
    "            x1, y1, x2, y2 = box.type(torch.int).tolist()\n",
    "            f.write(f'{result.names[cls.item()]} {conf:.4f} {x1} {y1} {x2} {y2}\\n')"
   ],
   "metadata": {
    "collapsed": false,
    "ExecuteTime": {
     "end_time": "2024-02-11T07:32:02.052070100Z",
     "start_time": "2024-02-11T07:32:01.121885900Z"
    }
   },
   "id": "9f68fad949e3e207",
   "execution_count": 82
  },
  {
   "cell_type": "markdown",
   "source": [
    "# Building hierarchy"
   ],
   "metadata": {
    "collapsed": false
   },
   "id": "41302c6a80ec3a6d"
  },
  {
   "cell_type": "code",
   "outputs": [],
   "source": [
    "def bb_IOU(bb1, bb2):\n",
    "    x1, y1, w1, h1 = bb1\n",
    "    x2, y2, w2, h2 = bb2\n",
    "    w = min(x1 + w1, x2 + w2) - max(x1, x2)\n",
    "    h = min(y1 + h1, y2 + h2) - max(y1, y2)\n",
    "    if w <= 0 or h <= 0:\n",
    "        return 0\n",
    "    I = w * h\n",
    "    U = w1 * h1 + w2 * h2 - I\n",
    "    return I / U\n",
    "\n",
    "\n",
    "\n",
    "\n",
    "def create_nodes(fields):\n",
    "    name = fields[0]\n",
    "    role = fields[0]\n",
    "    bbox = [int(float(fields[i])) for i in range(1, 5)]\n",
    "    visible_bbox = bbox.copy()\n",
    "    description = None\n",
    "    role_description = None\n",
    "    value = None\n",
    "    children = []\n",
    "    element = {\n",
    "        \"name\": name,\n",
    "        \"role\": role,\n",
    "        \"description\": description,\n",
    "        \"role_description\": role_description,\n",
    "        \"value\": value,\n",
    "        \"children\": children,\n",
    "        \"bbox\": bbox,\n",
    "        \"visible_bbox\": visible_bbox\n",
    "    }\n",
    "    return element\n",
    "\n",
    "\n",
    "def create_json_file(txt_file_path, output_dir):\n",
    "    txt_file_path = Path(txt_file_path)\n",
    "    output_dir = Path(output_dir)\n",
    "    output_filename = txt_file_path.stem + \".json\"\n",
    "    output_file_path = output_dir / output_filename\n",
    "\n",
    "    if not output_dir.exists():\n",
    "        output_dir.mkdir(parents=True)\n",
    "\n",
    "    with txt_file_path.open('r') as txt_file:\n",
    "        node = {}\n",
    "        data = []\n",
    "        for line in txt_file:\n",
    "            fields = line.strip().split()\n",
    "            element = create_nodes(fields)\n",
    "            if fields[0] == 'AXWindow':\n",
    "                node = element\n",
    "            else:\n",
    "                data.append(element)\n",
    "\n",
    "        if not node:\n",
    "            node = create_nodes(['AXWindow', '0', '0', '0', '0'])\n",
    "        node['children'].extend(data)\n",
    "\n",
    "        for i, element in enumerate(node['children'].copy()):\n",
    "            for j, other_element in enumerate(node['children'].copy()):\n",
    "                if i != j:\n",
    "                    iou = bb_IOU(element['bbox'], other_element['bbox'])\n",
    "                    if abs(iou) > 0.5:\n",
    "                        element['children'].append(other_element)\n",
    "                        node['children'].remove(other_element)\n",
    "\n",
    "        with output_file_path.open('w') as json_file:\n",
    "            json.dump(node, json_file, indent=4)\n",
    "\n",
    "\n",
    "for txt_file_path in (yolo_path / 'test' / 'labels').glob(\"*.txt\"):\n",
    "    create_json_file(txt_file_path, json_trees)"
   ],
   "metadata": {
    "collapsed": false,
    "ExecuteTime": {
     "end_time": "2024-02-11T08:14:51.777200400Z",
     "start_time": "2024-02-11T08:14:51.621279300Z"
    }
   },
   "id": "f1d2a7fef04f8190",
   "execution_count": 97
  },
  {
   "cell_type": "markdown",
   "source": [
    "# Clean trees"
   ],
   "metadata": {
    "collapsed": false
   },
   "id": "bb1325adea643065"
  },
  {
   "cell_type": "code",
   "outputs": [],
   "source": [
    "def fixing_elements(node):\n",
    "    for i, child in enumerate(node['children']):\n",
    "        if (child['visible_bbox'] == None) or \\\n",
    "                (all(x >= 0 for x in child['bbox']) == False):\n",
    "            node['children'].pop(i)\n",
    "        else:\n",
    "            node['children'][i] = fixing_elements(child)\n",
    "    if 'bbox' in node:\n",
    "        del node['bbox']\n",
    "    return node\n",
    "\n",
    "\n",
    "for json_path in glob.glob(str(json_trees / '*.json')):\n",
    "    with open(json_path, 'r') as file:\n",
    "        data = json.load(file)\n",
    "        \n",
    "    fix_data = fixing_elements(data)\n",
    "    new_path = json_path.replace('json_trees', 'clean_trees')\n",
    "    with open(new_path, 'w') as file_write:\n",
    "        json.dump(fix_data, file_write)"
   ],
   "metadata": {
    "collapsed": false,
    "ExecuteTime": {
     "end_time": "2024-02-11T08:13:08.978317900Z",
     "start_time": "2024-02-11T08:13:07.837971200Z"
    }
   },
   "id": "b25db0201e7a6f2e",
   "execution_count": 96
  },
  {
   "cell_type": "markdown",
   "source": [
    "# Build our image representation\n",
    "## The path to the directory with the JSON files to process and the base path to store the output text files"
   ],
   "metadata": {
    "collapsed": false
   },
   "id": "abeba0a00135d2d3"
  },
  {
   "cell_type": "code",
   "outputs": [],
   "source": [
    "json_files_path = clean_trees / '*.json'\n",
    "txt_output_path = representations"
   ],
   "metadata": {
    "collapsed": false,
    "ExecuteTime": {
     "end_time": "2024-02-11T08:42:58.168296300Z",
     "start_time": "2024-02-11T08:42:58.151219800Z"
    }
   },
   "id": "6da4d31c672a27f0",
   "execution_count": 9
  },
  {
   "cell_type": "markdown",
   "source": [
    "## A function for building a tree from a list of paths and a function for printing a tree"
   ],
   "metadata": {
    "collapsed": false
   },
   "id": "70acdf8b6912149f"
  },
  {
   "cell_type": "code",
   "outputs": [],
   "source": [
    "def write_hierarchy_as_tree(structure_info, output_path):\n",
    "    def build_tree(paths):\n",
    "        tree = {}\n",
    "        for path in paths:\n",
    "            parts = path.split('/')\n",
    "            current_level = tree\n",
    "            for part in parts:\n",
    "                current_level = current_level.setdefault(part, {})\n",
    "        return tree\n",
    "\n",
    "    def print_tree(current_level, indent=\"\", file=None):\n",
    "        for i, (key, value) in enumerate(current_level.items()):\n",
    "            end_char = \"└──\" if i == len(current_level)-1 else \"├──\"\n",
    "            print(f\"{indent}{end_char} {key}/\", file=file)\n",
    "            if value:  \n",
    "                new_indent = indent + (\"    \" if i == len(current_level)-1 else \"│   \")\n",
    "                print_tree(value, new_indent, file=file)\n",
    "\n",
    "    tree = build_tree(structure_info)\n",
    "    with open(output_path, 'w', encoding='utf-8') as file:\n",
    "        for root, sub_trees in tree.items():\n",
    "            print(f\"{root}/\", file=file)\n",
    "            print_tree(sub_trees, file=file)"
   ],
   "metadata": {
    "collapsed": false,
    "ExecuteTime": {
     "end_time": "2024-02-11T08:42:40.193000600Z",
     "start_time": "2024-02-11T08:42:40.170947300Z"
    }
   },
   "id": "d713927cb1e3c426",
   "execution_count": 4
  },
  {
   "cell_type": "markdown",
   "source": [
    "## Processing json files and recording information from them"
   ],
   "metadata": {
    "collapsed": false
   },
   "id": "db9a4b553af28259"
  },
  {
   "cell_type": "code",
   "outputs": [],
   "source": [
    "def process_json_file(file_path, output_base_path):\n",
    "    with open(file_path, 'r', encoding='utf-8') as file:\n",
    "        data = json.load(file)\n",
    "\n",
    "    roles_count = {}\n",
    "    detailed_info = []\n",
    "    role_instances = {}\n",
    "    structure_info = []\n",
    "\n",
    "    def parse_node(node, path=\"\"):\n",
    "        role = node.get('role')\n",
    "        if role:\n",
    "            roles_count[role] = roles_count.get(role, 0) + 1\n",
    "            role_instances[role] = role_instances.get(role, 0) + 1\n",
    "\n",
    "            if role_instances[role] > 1:\n",
    "                unique_role = f\"{role}{role_instances[role] - 1}\"\n",
    "            else:\n",
    "                unique_role = role\n",
    "\n",
    "            role_description = node.get('role_description', 'None')\n",
    "            value = node.get('value', 'None')\n",
    "            visible_bbox = node.get('visible_bbox', 'None')\n",
    "            bbox = node.get('bbox', 'None')\n",
    "            detailed_info.append(f'\"role\":\"{unique_role}\", \"role_description\": \"{role_description}\", \"value\": \"{value}\", \"visible_bbox\": \"{visible_bbox}\"' + (f', \"bbox\": \"{bbox}\"' if bbox != 'None' else ''))\n",
    "\n",
    "            new_path = os.path.join(path, unique_role)\n",
    "            structure_info.append(new_path)\n",
    "\n",
    "            for child in node.get('children', []):\n",
    "                parse_node(child, new_path)\n",
    "\n",
    "    parse_node(data)\n",
    "\n",
    "    # Write roles and their counts + detailed information into a single file\n",
    "    detailed_output_path = os.path.join(output_base_path, os.path.basename(file_path).replace('.json', '_details.txt'))\n",
    "    with open(detailed_output_path, 'w', encoding='utf-8') as file:\n",
    "        file.write(\"Roles and their counts:\\n\")\n",
    "        for role, count in roles_count.items():\n",
    "            file.write(f'\"{role}\": \"{count}\"\\n')\n",
    "        file.write(\"\\nDetailed information:\\n\")\n",
    "        for info in detailed_info:\n",
    "            file.write(f'{info}\\n')\n",
    "\n",
    "    # Optionally, create and write the directory structure info into another file\n",
    "    structure_output_path = os.path.join(output_base_path, os.path.basename(file_path).replace('.json', '_structure.txt'))\n",
    "    with open(structure_output_path, 'w', encoding='utf-8') as file:\n",
    "        for path in structure_info:\n",
    "            modified_path = path.replace(\"/\", \" -> \")\n",
    "            file.write(f\"{modified_path}\\n\")"
   ],
   "metadata": {
    "collapsed": false,
    "ExecuteTime": {
     "end_time": "2024-02-11T08:43:50.766326500Z",
     "start_time": "2024-02-11T08:43:50.761281500Z"
    }
   },
   "id": "e78b0087e2671737",
   "execution_count": 11
  },
  {
   "cell_type": "markdown",
   "source": [
    "## Processing the first 5 JSON files (change the number if necessary)"
   ],
   "metadata": {
    "collapsed": false
   },
   "id": "678025fd44c85224"
  },
  {
   "cell_type": "code",
   "outputs": [],
   "source": [
    "for json_file in df.query(\"split == 'test'\")['screen_path']:\n",
    "    json_file = json_file.replace('/', '_')[:-1] + '.json'\n",
    "    process_json_file(json_files_path / json_file, txt_output_path)"
   ],
   "metadata": {
    "collapsed": false,
    "ExecuteTime": {
     "end_time": "2024-02-11T08:43:51.291301400Z",
     "start_time": "2024-02-11T08:43:51.282281600Z"
    }
   },
   "id": "72da8fb5711db2a",
   "execution_count": 12
  },
  {
   "cell_type": "markdown",
   "source": [
    "## LLM Answering"
   ],
   "metadata": {
    "collapsed": false
   },
   "id": "c07ca11d9721f9e3"
  },
  {
   "cell_type": "code",
   "outputs": [],
   "source": [
    "with open('../data/prompts_final.json', 'r') as f:\n",
    "    PROMPTS = json.load(f)"
   ],
   "metadata": {
    "collapsed": false,
    "ExecuteTime": {
     "end_time": "2024-02-11T08:49:35.938872300Z",
     "start_time": "2024-02-11T08:49:35.876153300Z"
    }
   },
   "id": "8ebe180f35111a29",
   "execution_count": 15
  },
  {
   "cell_type": "code",
   "outputs": [],
   "source": [
    "openai_client = OpenAI(api_key=os.getenv('OPENAI_API_KEY'))\n",
    "\n",
    "def get_model_response(question_type, question, elements_info, hierarchy_file):\n",
    "    prompt = PROMPTS[question_type]\n",
    "    quest = f\"Screen representation consists of two text files. The first let you be aware of a number of different elements, their role, role_description, value and location (visible bbox). The second represents a hierarchy of this elements. Each element has its unique role. Elements info: {elements_info}, hierarchy file: {hierarchy_file}\\n\\nQuestion: {question}\\n\\nEnsure your response reflects a deep understanding of the described UI screen.\"\n",
    "\n",
    "    model_response = openai_client.chat.completions.create(\n",
    "        model=\"gpt-3.5-turbo-0125\",\n",
    "        temperature=0,\n",
    "        messages=[\n",
    "            {\n",
    "                \"role\": \"system\",\n",
    "                \"content\": prompt\n",
    "            },\n",
    "            {\n",
    "                \"role\": \"user\",\n",
    "                \"content\": quest\n",
    "            }],\n",
    "    )\n",
    "\n",
    "    return model_response.choices[0].message.content"
   ],
   "metadata": {
    "collapsed": false
   },
   "id": "1210a933898ff069"
  },
  {
   "cell_type": "code",
   "outputs": [],
   "source": [
    "def unzip_file(zip_filepath, dest_dir):\n",
    "    with zipfile.ZipFile(zip_filepath, 'r') as zip_ref:\n",
    "        zip_ref.extractall(dest_dir)\n",
    "\n",
    "unzip_file('../data/representations/representations.zip', '../data/')"
   ],
   "metadata": {
    "collapsed": false,
    "ExecuteTime": {
     "end_time": "2024-02-11T09:18:28.015649900Z",
     "start_time": "2024-02-11T09:18:27.979511400Z"
    }
   },
   "id": "2601a7d30a62e6a9",
   "execution_count": 44
  },
  {
   "cell_type": "code",
   "outputs": [],
   "source": [
    "# Завантажуємо розмітку дерева доступності\n",
    "with open('../data/representations/Almighty_1707228209_details.txt','r', encoding='utf-8') as f:   \n",
    "    elements = f.readlines()\n",
    "    \n",
    "with open('../data/representations/Almighty_1707228209_structure.txt','r', encoding='utf-8') as f:\n",
    "    structure = f.readlines()"
   ],
   "metadata": {
    "collapsed": false,
    "ExecuteTime": {
     "end_time": "2024-02-11T09:06:35.298320400Z",
     "start_time": "2024-02-11T09:06:35.288279300Z"
    }
   },
   "id": "2b316a56e9b9ae2b",
   "execution_count": 24
  },
  {
   "cell_type": "code",
   "outputs": [],
   "source": [
    "question_type = ''  # Вказуємо тип відповіді\n",
    "question = ''  # Надаємо запитання\n",
    "elements_info = str(elements)\n",
    "hierarchy_file = str(structure)\n",
    "\n",
    "# Отримуємо відповідь\n",
    "answer = get_model_response(\n",
    "    openai_client,\n",
    "    question_type,\n",
    "    question,\n",
    "    elements_info,\n",
    "    hierarchy_file\n",
    ")\n",
    "answer"
   ],
   "metadata": {
    "collapsed": false
   },
   "id": "1a3cf64241bf0b99"
  }
 ],
 "metadata": {
  "kernelspec": {
   "display_name": "Python 3",
   "language": "python",
   "name": "python3"
  },
  "language_info": {
   "codemirror_mode": {
    "name": "ipython",
    "version": 2
   },
   "file_extension": ".py",
   "mimetype": "text/x-python",
   "name": "python",
   "nbconvert_exporter": "python",
   "pygments_lexer": "ipython2",
   "version": "2.7.6"
  }
 },
 "nbformat": 4,
 "nbformat_minor": 5
}
